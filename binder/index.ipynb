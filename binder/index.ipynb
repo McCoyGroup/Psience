{
 "cells": [
  {
   "cell_type": "markdown",
   "id": "03d4ecb6-e351-462c-913d-00c386aa0b3c",
   "metadata": {
    "pycharm": {
     "name": "#%% md\n"
    }
   },
   "source": [
    "# Psience"
   ]
  },
  {
   "cell_type": "markdown",
   "id": "122937d3-9d8c-4bfc-af25-5b099af9c7b0",
   "metadata": {
    "pycharm": {
     "name": "#%% md\n"
    }
   },
   "source": [
    "This notebook tracks the most up to date version of `Psience`.\n",
    "Test data is also available."
   ]
  },
  {
   "cell_type": "code",
   "execution_count": 1,
   "id": "32f8f47b-4ec5-4a32-bc96-2ee7c43f52fd",
   "metadata": {},
   "outputs": [],
   "source": [
    "import os, sys\n",
    "sys.path.insert(0, os.path.dirname(os.path.dirname(os.getcwd())))"
   ]
  },
  {
   "cell_type": "code",
   "execution_count": 2,
   "id": "86282e40-4ddd-43d3-93ec-b693d95b95f6",
   "metadata": {
    "pycharm": {
     "name": "#%%\n"
    }
   },
   "outputs": [],
   "source": [
    "import os\n",
    "import Psience\n",
    "\n",
    "test_dir = os.path.join(os.path.dirname(os.getcwd()), 'ci', 'tests', 'TestData')\n",
    "def test_data(name):\n",
    "    return os.path.join(test_dir, name)"
   ]
  },
  {
   "cell_type": "markdown",
   "id": "d8f912b7-7f7b-4c96-9976-0579be077c8f",
   "metadata": {
    "pycharm": {
     "name": "#%% md\n"
    }
   },
   "source": [
    "## Examples"
   ]
  },
  {
   "cell_type": "markdown",
   "id": "0be6b4e8-3451-4887-98a6-df0e8bc73382",
   "metadata": {
    "pycharm": {
     "name": "#%% md\n"
    }
   },
   "source": [
    "We will provide a brief examples for the common use cases for each module.\n",
    "More information can be found on the pages themselves.\n",
    "The unit tests for each package are provided on the bottom of the package page.\n",
    "These provide useful usage examples."
   ]
  },
  {
   "cell_type": "markdown",
   "id": "6d85adbc-8343-45e7-8a64-bb53dd08ede8",
   "metadata": {},
   "source": [
    "## Molecools"
   ]
  },
  {
   "cell_type": "code",
   "execution_count": 3,
   "id": "fdd81189-4178-4331-a21e-ab3a6d7b0539",
   "metadata": {},
   "outputs": [],
   "source": [
    "from Psience.Molecools import *"
   ]
  },
  {
   "cell_type": "markdown",
   "id": "488f708a-8dd0-404c-9924-1bda216598ec",
   "metadata": {},
   "source": [
    "Load a molecule from a formatted checkpoint file"
   ]
  },
  {
   "cell_type": "code",
   "execution_count": 4,
   "id": "61c12742-2a49-49e7-b004-ce888357aca1",
   "metadata": {
    "tags": []
   },
   "outputs": [
    {
     "data": {
      "application/vnd.jupyter.widget-view+json": {
       "model_id": "2734b4964d1f4bc080299b8266adc2a5",
       "version_major": 2,
       "version_minor": 0
      },
      "text/plain": []
     },
     "metadata": {},
     "output_type": "display_data"
    },
    {
     "data": {
      "application/vnd.jupyter.widget-view+json": {
       "model_id": "f976801800ed46dab23bea6d2996b4a3",
       "version_major": 2,
       "version_minor": 0
      },
      "text/plain": [
       "NGLWidget()"
      ]
     },
     "metadata": {},
     "output_type": "display_data"
    }
   ],
   "source": [
    "mol = Molecule.from_file(test_data(\"HOH_freq.fchk\"), bonds=[[0, 1], [0, 2]])\n",
    "mol"
   ]
  },
  {
   "cell_type": "markdown",
   "id": "cccf362f-157e-44b9-a622-26ffc4acc68a",
   "metadata": {
    "tags": []
   },
   "source": [
    "Visualize its normal modes"
   ]
  },
  {
   "cell_type": "code",
   "execution_count": 7,
   "id": "d02be13a-6144-460b-b990-633e6eaaca1e",
   "metadata": {
    "collapsed": true,
    "jupyter": {
     "outputs_hidden": true
    },
    "tags": []
   },
   "outputs": [
    {
     "data": {
      "application/vnd.jupyter.widget-view+json": {
       "model_id": "f36e29cc11844790a632342c66678008",
       "version_major": 2,
       "version_minor": 0
      },
      "text/plain": [
       "HTMLElement(div, (HTMLElement(div, (HTMLElement(div, (HTMLElement(button, '1', cls=['btn', 'btn-primary'], sty…"
      ]
     },
     "metadata": {},
     "output_type": "display_data"
    }
   ],
   "source": [
    "mol.normal_modes.modes"
   ]
  },
  {
   "cell_type": "markdown",
   "id": "cafecaf3-3499-4158-8c89-29d693a9728c",
   "metadata": {
    "pycharm": {
     "name": "#%% md\n"
    }
   },
   "source": [
    "## VPT"
   ]
  },
  {
   "cell_type": "markdown",
   "id": "c61a85e3-45ab-498d-97ed-3694232aea8d",
   "metadata": {
    "pycharm": {
     "name": "#%% md\n"
    }
   },
   "source": [
    "The `VPT` package provides a toolkit for running vibrational perturbation theory calculations"
   ]
  },
  {
   "cell_type": "code",
   "execution_count": 9,
   "id": "321d59c5-7900-4259-b676-01be3d7fcd20",
   "metadata": {
    "pycharm": {
     "name": "#%%\n"
    }
   },
   "outputs": [],
   "source": [
    "from Psience.VPT2 import *"
   ]
  },
  {
   "cell_type": "markdown",
   "id": "279396a8-8d63-4125-ad22-5838907b5932",
   "metadata": {},
   "source": [
    "Set up a basic VPT for water and plot the spectrum"
   ]
  },
  {
   "cell_type": "code",
   "execution_count": 10,
   "id": "abd83a4f-0e4b-4b2e-afee-dc2cebdaaf76",
   "metadata": {},
   "outputs": [
    {
     "data": {
      "image/png": "[encoded data removed]",
      "text/plain": [
       "<Figure size 650x325 with 1 Axes>"
      ]
     },
     "metadata": {
      "needs_background": "light"
     },
     "output_type": "display_data"
    }
   ],
   "source": [
    "analyzer = VPTAnalyzer.run_VPT(test_data(\"HOH_freq.fchk\"), 3) # up through 3 quantum transitions\n",
    "analyzer.spectrum.plot(image_size=650, aspect_ratio=.5)"
   ]
  },
  {
   "cell_type": "markdown",
   "id": "a0760ab6-218a-4cb5-b4de-d2cb326509c4",
   "metadata": {},
   "source": [
    "Print a table of frequencies and intensities"
   ]
  },
  {
   "cell_type": "code",
   "execution_count": 11,
   "id": "79466f0d-fe92-49f8-bc14-66d0ef970fcc",
   "metadata": {},
   "outputs": [
    {
     "name": "stdout",
     "output_type": "stream",
     "text": [
      "============================================= IR Data ==============================================\n",
      "                   Harmonic                  Anharmonic\n",
      "State       Frequency    Intensity       Frequency    Intensity\n",
      "  0 0 1    3937.52466     67.02051      3744.74223     64.17167\n",
      "  0 1 0    3803.29960      4.14283      3621.97931      3.11401\n",
      "  1 0 0    1622.30302     67.45626      1572.70734     68.32367\n",
      "  0 0 2    7875.04932      0.00000      7391.41648      0.01483\n",
      "  0 2 0    7606.59919      0.00000      7155.85397      0.31496\n",
      "  2 0 0    3244.60604      0.00000      3117.39090      0.55473\n",
      "  0 1 1    7740.82426      0.00000      7200.36337      2.20979\n",
      "  1 0 1    5559.82768      0.00000      5294.37886      3.76254\n",
      "  1 1 0    5425.60262      0.00000      5174.61359      0.06232\n",
      "  0 0 3   11812.57398      0.00000     10940.02275      0.04985\n",
      "  0 3 0   11409.89879      0.00000     10601.62396      0.00898\n",
      "  3 0 0    4866.90906      0.00000      4634.05068      0.00350\n",
      "  0 1 2   11678.34892      0.00000     10680.67944      0.00001\n",
      "  1 0 2    9497.35234      0.00000      8917.98240      0.00333\n",
      "  0 2 1   11544.12385      0.00000     10567.87984      0.08362\n",
      "  2 0 1    7182.13070      0.00000      6815.99171      0.16303\n",
      "  1 2 0    9228.90221      0.00000      8688.41518      0.00427\n",
      "  2 1 0    7047.90564      0.00000      6699.22408      0.00661\n",
      "  1 1 1    9363.12728      0.00000      8729.92693      0.09713\n",
      "====================================================================================================\n"
     ]
    }
   ],
   "source": [
    "analyzer.print_output_tables()"
   ]
  }
 ],
 "metadata": {
  "kernelspec": {
   "display_name": "pyenv38",
   "language": "python",
   "name": "pyenv38"
  },
  "language_info": {
   "codemirror_mode": {
    "name": "ipython",
    "version": 3
   },
   "file_extension": ".py",
   "mimetype": "text/x-python",
   "name": "python",
   "nbconvert_exporter": "python",
   "pygments_lexer": "ipython3",
   "version": "3.8.8"
  }
 },
 "nbformat": 4,
 "nbformat_minor": 5
}
